{
 "cells": [
  {
   "cell_type": "markdown",
   "id": "49fffca5",
   "metadata": {},
   "source": [
    "# Desafío 1: Palíndromos \n",
    "Un palíndromo es una palabra o frase que se lee igual de adelante hacia atrás que de atrás hacia adelante, ignorando los espacios, puntuación y capitalización. El desafío es crear un programa que tome una cadena ingresada por el usuario y determine si es un palíndromo."
   ]
  },
  {
   "cell_type": "code",
   "execution_count": null,
   "id": "8097a5e7",
   "metadata": {},
   "outputs": [],
   "source": [
    "def es_palindromo(cadena):\n",
    "    # Eliminamos los espacios en blanco y convertimos a minúsculas\n",
    "    cadena = cadena.replace(\" \", \"\").lower()\n",
    "    \n",
    "    # Verificamos si la cadena es igual a su inversa\n",
    "    return cadena == cadena[::-1]\n",
    "\n",
    "# Solicitar al usuario ingresar una cadena\n",
    "cadena_usuario = input(\"Ingresa una cadena: \")\n",
    "\n",
    "# Verificar si la cadena es un palíndromo e imprimir el resultado\n",
    "if es_palindromo(cadena_usuario):\n",
    "    print(\"La cadena ingresada es un palíndromo.\")\n",
    "else:\n",
    "    print(\"La cadena ingresada no es un palíndromo.\")"
   ]
  }
 ],
 "metadata": {
  "kernelspec": {
   "display_name": "Python 3 (ipykernel)",
   "language": "python",
   "name": "python3"
  },
  "language_info": {
   "codemirror_mode": {
    "name": "ipython",
    "version": 3
   },
   "file_extension": ".py",
   "mimetype": "text/x-python",
   "name": "python",
   "nbconvert_exporter": "python",
   "pygments_lexer": "ipython3",
   "version": "3.10.12"
  }
 },
 "nbformat": 4,
 "nbformat_minor": 5
}
