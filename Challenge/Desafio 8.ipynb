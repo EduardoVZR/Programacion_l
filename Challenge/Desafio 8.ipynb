{
 "cells": [
  {
   "cell_type": "markdown",
   "id": "301e01de",
   "metadata": {},
   "source": [
    "# Desafío 8: Debugging de un Script de Ordenación\n",
    "Se te ha dado un script que supuestamente ordena una lista de números en orden ascendente, pero algo está mal y no funciona como debería. Tu tarea es depurar el script y hacer que funcione correctamente.\n",
    "\n",
    "- def sort_list_bad(numbers):\n",
    "    - for i in range(len(numbers)):\n",
    "        - for j in range(i + 1, len(numbers)):\n",
    "           - if numbers[i] > numbers[j]:\n",
    "              -  #Aquí hay un error en la lógica de intercambio\n",
    "              \n",
    "             - temp = numbers[i]\n",
    "              -  numbers[i] = numbers[j]  # Este debería ser numbers[j] = temp\n",
    "    - return numbers\n",
    "\n",
    "- #Lista de prueba\n",
    "- test_list = [3, 1, 4, 1, 5, 9, 2, 6, 5, 3, 5]\n",
    "- #Intenta ordenar la lista\n",
    "- sorted_list = sort_list_bad(test_list)\n",
    "- print(\"Sorted list (with error):\", sorted_list)\n",
    "\n"
   ]
  },
  {
   "cell_type": "code",
   "execution_count": 1,
   "id": "44e09858",
   "metadata": {},
   "outputs": [
    {
     "name": "stdout",
     "output_type": "stream",
     "text": [
      "Sorted list (fixed): [1, 1, 2, 3, 3, 4, 5, 5, 5, 6, 9]\n"
     ]
    }
   ],
   "source": [
    "def sort_list_fixed(numbers):\n",
    "    for i in range(len(numbers)):\n",
    "        for j in range(i + 1, len(numbers)):\n",
    "            if numbers[i] > numbers[j]:\n",
    "                # Corrección en la lógica de intercambio\n",
    "                temp = numbers[i]\n",
    "                numbers[i] = numbers[j]\n",
    "                numbers[j] = temp  # Se intercambian los elementos correctamente\n",
    "\n",
    "    return numbers\n",
    "\n",
    "# Lista de prueba\n",
    "test_list = [3, 1, 4, 1, 5, 9, 2, 6, 5, 3, 5]\n",
    "\n",
    "# Intenta ordenar la lista\n",
    "sorted_list = sort_list_fixed(test_list)\n",
    "print(\"Sorted list (fixed):\", sorted_list)\n"
   ]
  }
 ],
 "metadata": {
  "kernelspec": {
   "display_name": "Python 3 (ipykernel)",
   "language": "python",
   "name": "python3"
  },
  "language_info": {
   "codemirror_mode": {
    "name": "ipython",
    "version": 3
   },
   "file_extension": ".py",
   "mimetype": "text/x-python",
   "name": "python",
   "nbconvert_exporter": "python",
   "pygments_lexer": "ipython3",
   "version": "3.10.12"
  }
 },
 "nbformat": 4,
 "nbformat_minor": 5
}
