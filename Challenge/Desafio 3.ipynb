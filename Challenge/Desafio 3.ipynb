{
 "cells": [
  {
   "cell_type": "markdown",
   "id": "7b920c9a",
   "metadata": {},
   "source": [
    "# Desafío 3: Administrador de contactos\n",
    "Crea un programa que permita administrar una lista de contactos. Cada contacto deberá tener un nombre, un número de teléfono y una dirección de correo electrónico. El programa deberá ofrecer las siguientes funcionalidades:\n",
    "\n",
    "1. Agregar un contacto nuevo\n",
    "2. Ver la lista de contactos\n",
    "3. Buscar un contacto por nombre\n",
    "4. Eliminar un contacto por nombre\n",
    "- Usa listas y tuplas para almacenar los contactos y un diccionario para almacenar la información de cada contacto. También deberás crear distintas funciones para cada una de las funcionalidades."
   ]
  },
  {
   "cell_type": "code",
   "execution_count": null,
   "id": "364f3821",
   "metadata": {},
   "outputs": [
    {
     "name": "stdout",
     "output_type": "stream",
     "text": [
      "\n",
      "---- Menú de Contactos ----\n",
      "1. Agregar un contacto nuevo\n",
      "2. Ver la lista de contactos\n",
      "3. Buscar un contacto por nombre\n",
      "4. Eliminar un contacto por nombre\n",
      "5. Salir\n"
     ]
    }
   ],
   "source": [
    "# Función para agregar un nuevo contacto\n",
    "def agregar_contacto(lista_contactos, nombre, telefono, correo):\n",
    "    nuevo_contacto = {'Nombre': nombre, 'Teléfono': telefono, 'Correo electrónico': correo}\n",
    "    lista_contactos.append(nuevo_contacto)\n",
    "    print(f\"Contacto '{nombre}' agregado correctamente.\")\n",
    "\n",
    "# Función para ver la lista de contactos\n",
    "def ver_contactos(lista_contactos):\n",
    "    if not lista_contactos:\n",
    "        print(\"La lista de contactos está vacía.\")\n",
    "    else:\n",
    "        for contacto in lista_contactos:\n",
    "            print(\"\\nNombre:\", contacto['Nombre'])\n",
    "            print(\"Teléfono:\", contacto['Teléfono'])\n",
    "            print(\"Correo electrónico:\", contacto['Correo electrónico'])\n",
    "            print(\"------------------------\")\n",
    "\n",
    "# Función para buscar un contacto por nombre\n",
    "def buscar_contacto(lista_contactos, nombre):\n",
    "    for contacto in lista_contactos:\n",
    "        if contacto['Nombre'] == nombre:\n",
    "            print(\"\\nNombre:\", contacto['Nombre'])\n",
    "            print(\"Teléfono:\", contacto['Teléfono'])\n",
    "            print(\"Correo electrónico:\", contacto['Correo electrónico'])\n",
    "            return\n",
    "    print(f\"Contacto '{nombre}' no encontrado.\")\n",
    "\n",
    "# Función para eliminar un contacto por nombre\n",
    "def eliminar_contacto(lista_contactos, nombre):\n",
    "    for contacto in lista_contactos:\n",
    "        if contacto['Nombre'] == nombre:\n",
    "            lista_contactos.remove(contacto)\n",
    "            print(f\"Contacto '{nombre}' eliminado correctamente.\")\n",
    "            return\n",
    "    print(f\"Contacto '{nombre}' no encontrado.\")\n",
    "\n",
    "# Lista que almacenará los contactos\n",
    "lista_de_contactos = []\n",
    "\n",
    "# Menú principal\n",
    "while True:\n",
    "    print(\"\\n---- Menú de Contactos ----\")\n",
    "    print(\"1. Agregar un contacto nuevo\")\n",
    "    print(\"2. Ver la lista de contactos\")\n",
    "    print(\"3. Buscar un contacto por nombre\")\n",
    "    print(\"4. Eliminar un contacto por nombre\")\n",
    "    print(\"5. Salir\")\n",
    "\n",
    "    opcion = input(\"Selecciona una opción (1-5): \")\n",
    "\n",
    "    if opcion == '1':\n",
    "        nombre = input(\"Ingresa el nombre del contacto: \")\n",
    "        telefono = input(\"Ingresa el número de teléfono del contacto: \")\n",
    "        correo = input(\"Ingresa la dirección de correo electrónico del contacto: \")\n",
    "        agregar_contacto(lista_de_contactos, nombre, telefono, correo)\n",
    "\n",
    "    elif opcion == '2':\n",
    "        ver_contactos(lista_de_contactos)\n",
    "\n",
    "    elif opcion == '3':\n",
    "        nombre_buscar = input(\"Ingresa el nombre del contacto a buscar: \")\n",
    "        buscar_contacto(lista_de_contactos, nombre_buscar)\n",
    "\n",
    "    elif opcion == '4':\n",
    "        nombre_eliminar = input(\"Ingresa el nombre del contacto a eliminar: \")\n",
    "        eliminar_contacto(lista_de_contactos, nombre_eliminar)\n",
    "\n",
    "    elif opcion == '5':\n",
    "        print(\"Saliendo del programa. ¡Hasta luego!\")\n",
    "        break\n",
    "\n",
    "    else:\n",
    "        print(\"Opción no válida. Por favor, selecciona una opción del 1 al 5.\")\n"
   ]
  },
  {
   "cell_type": "code",
   "execution_count": null,
   "id": "bf72f8ef",
   "metadata": {},
   "outputs": [],
   "source": []
  }
 ],
 "metadata": {
  "kernelspec": {
   "display_name": "Python 3 (ipykernel)",
   "language": "python",
   "name": "python3"
  },
  "language_info": {
   "codemirror_mode": {
    "name": "ipython",
    "version": 3
   },
   "file_extension": ".py",
   "mimetype": "text/x-python",
   "name": "python",
   "nbconvert_exporter": "python",
   "pygments_lexer": "ipython3",
   "version": "3.10.12"
  }
 },
 "nbformat": 4,
 "nbformat_minor": 5
}
