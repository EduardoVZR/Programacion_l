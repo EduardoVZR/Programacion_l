{
 "cells": [
  {
   "cell_type": "markdown",
   "id": "d16f8d13",
   "metadata": {},
   "source": [
    "# Desafío 2: Generador de Histograma\n",
    "Crear un programa que tome una lista de números y genere un histograma basado en esos números, usando asteriscos para crear las barras del histograma."
   ]
  },
  {
   "cell_type": "code",
   "execution_count": null,
   "id": "ab428eb8",
   "metadata": {},
   "outputs": [],
   "source": [
    "def generar_histograma(lista):\n",
    "    for numero in lista:\n",
    "        # Imprimir asteriscos para representar la barra del histograma\n",
    "        print('*' * numero)\n",
    "\n",
    "# Solicitar al usuario ingresar una lista de números separados por espacios\n",
    "entrada_usuario = input(\"Ingresa una lista de números separados por espacios: \")\n",
    "\n",
    "# Convertir la entrada a una lista de números\n",
    "lista_numeros = [int(num) for num in entrada_usuario.split()]\n",
    "\n",
    "# Generar e imprimir el histograma\n",
    "print(\"Histograma:\")\n",
    "generar_histograma(lista_numeros)"
   ]
  },
  {
   "cell_type": "code",
   "execution_count": null,
   "id": "3bd4f466",
   "metadata": {},
   "outputs": [],
   "source": []
  }
 ],
 "metadata": {
  "kernelspec": {
   "display_name": "Python 3 (ipykernel)",
   "language": "python",
   "name": "python3"
  },
  "language_info": {
   "codemirror_mode": {
    "name": "ipython",
    "version": 3
   },
   "file_extension": ".py",
   "mimetype": "text/x-python",
   "name": "python",
   "nbconvert_exporter": "python",
   "pygments_lexer": "ipython3",
   "version": "3.10.12"
  }
 },
 "nbformat": 4,
 "nbformat_minor": 5
}
