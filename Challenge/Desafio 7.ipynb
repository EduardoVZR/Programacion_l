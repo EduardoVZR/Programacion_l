{
 "cells": [
  {
   "cell_type": "markdown",
   "id": "d1a0ca4a",
   "metadata": {},
   "source": [
    "# Desafío 7: Copia de archivos con filtrado\n",
    "Crea un script que copie un archivo a otro, pero que excluya todas las líneas que contengan una palabra prohibida especificada por el usuario.\n",
    "\n",
    "b)\tCopia el siguiente texto y graba un archivo.txt \n",
    "\n",
    "“El reto de hoy nos lleva al corazón de la gestión de archivos y la manipulación de texto con un toque de personalización. En un mundo inundado de datos, a menudo nos encontramos en la necesidad de filtrar y refinar la información que fluye a través de nuestros documentos digitales. Ya sea que estés depurando logs, limpiando datos o simplemente organizando tu contenido, la habilidad para excluir información irrelevante es esencial. Imagínate en el rol de un archivista digital cuyo objetivo es preservar la integridad de un texto limpio y puro. Tu misión es transferir preciosos datos de un archivo a otro, pero con una advertencia crucial: debes dejar atrás todas aquellas palabras que no sean dignas de ser trasladadas. Estas palabras prohibidas son como manchas en un lienzo de otro modo inmaculado, y es tu trabajo asegurarte de que no mancillen el nuevo destino del texto. En esta tarea, no sólo pondrás a prueba tus habilidades de programación, sino también tu capacidad para ofrecer soluciones personalizadas que respondan a las necesidades específicas del usuario. El script que crearás actúa como un filtro inteligente, un guardián que distingue entre lo que debe ser conservado y lo que debe ser descartado. Para superar este desafío, deberás escribir un script que pregunte al usuario por esa palabra non grata y proceda meticulosamente a copiar el archivo fuente línea por línea, omitiendo aquellas que contienen el término prohibido. Esta tarea no sólo es un ejercicio de codificación, sino también una lección en la creación de herramientas personalizables que empoderan al usuario para que tome el control de su información. ¿Estás listo para tomar la responsabilidad de este poder de filtrado y ejecutar la tarea con la precisión de un experto? Prepárate para sumergirte en el código y tejer un programa que no sólo copia texto, sino que también imparte justicia a las palabras, permitiendo sólo a las más deseables pasar a través de sus puertas.”\n"
   ]
  },
  {
   "cell_type": "code",
   "execution_count": null,
   "id": "99f2710d",
   "metadata": {},
   "outputs": [],
   "source": [
    "def copiar_con_filtrado(archivo_fuente, archivo_destino, palabra_prohibida):\n",
    "    try:\n",
    "        with open(archivo_fuente, 'r', encoding='utf-8') as fuente, open(archivo_destino, 'w', encoding='utf-8') as destino:\n",
    "            for linea in fuente:\n",
    "                if palabra_prohibida.lower() not in linea.lower():\n",
    "                    destino.write(linea)\n",
    "\n",
    "        print(f\"Archivo copiado a {archivo_destino} excluyendo las líneas con la palabra prohibida.\")\n",
    "\n",
    "    except FileNotFoundError:\n",
    "        print(f\"El archivo {archivo_fuente} no fue encontrado.\")\n",
    "    except Exception as e:\n",
    "        print(f\"Ocurrió un error: {e}\")\n",
    "\n",
    "# Archivo de entrada\n",
    "archivo_fuente = \"archivo.txt\"\n",
    "\n",
    "# Archivo de salida\n",
    "archivo_destino = \"archivo_filtrado.txt\"\n",
    "\n",
    "# Pedir al usuario la palabra prohibida\n",
    "palabra_prohibida = input(\"Ingresa la palabra que deseas excluir: \")\n",
    "\n",
    "# Llamada a la función para copiar con filtrado\n",
    "copiar_con_filtrado(archivo_fuente, archivo_destino, palabra_prohibida)\n"
   ]
  },
  {
   "cell_type": "code",
   "execution_count": null,
   "id": "6cd8b6db",
   "metadata": {},
   "outputs": [],
   "source": []
  }
 ],
 "metadata": {
  "kernelspec": {
   "display_name": "Python 3 (ipykernel)",
   "language": "python",
   "name": "python3"
  },
  "language_info": {
   "codemirror_mode": {
    "name": "ipython",
    "version": 3
   },
   "file_extension": ".py",
   "mimetype": "text/x-python",
   "name": "python",
   "nbconvert_exporter": "python",
   "pygments_lexer": "ipython3",
   "version": "3.10.12"
  }
 },
 "nbformat": 4,
 "nbformat_minor": 5
}
