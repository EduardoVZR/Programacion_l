{
 "cells": [
  {
   "cell_type": "markdown",
   "id": "f56b7b15",
   "metadata": {},
   "source": [
    "# Challenge de Fin de Curso: \"Python Data Journey\"\n",
    "Introducción\n",
    "En el viaje que es la programación en Python, hemos atravesado desde las praderas de las variables y los bucles hasta las montañas de las estructuras de datos complejas y la interacción con archivos. Ahora, al final de este curso de Programación I en Python, nos enfrentamos a un reto integral que pone a prueba todo lo aprendido y un poco más. ¡Es hora de aplicar tus habilidades en un proyecto que simule un escenario del mundo real!\n",
    "Objetivos\n",
    "●\tConsolidar los conocimientos adquiridos durante el curso de Python en un proyecto aplicado.\n",
    "●\tDesarrollar un programa que procese datos de archivos y presente resultados analíticos.\n",
    "●\tFamiliarizarse con el uso de control de versiones utilizando GitHub.\n",
    "●\tDemostrar buenas prácticas de codificación y documentación de código.\n",
    "\n"
   ]
  },
  {
   "cell_type": "code",
   "execution_count": 1,
   "id": "6f56d6ef",
   "metadata": {},
   "outputs": [
    {
     "name": "stdout",
     "output_type": "stream",
     "text": [
      "Frecuencia de cada palabra: Counter({'la': 34, 'el': 30, 'en': 29, 'de': 26, 'un': 18, 'una': 14, 'las': 10, 'a': 6, 'cielo': 5, 'se': 4, 'del': 4, 'llena': 4, 'al': 4, 'luces': 3, 'aroma': 3, 'sonido': 3, 'sol': 2, 'lentamente': 2, 'horizonte': 2, 'entre': 2, 'los': 2, 'bosque': 2, 'olas': 2, 'suavemente': 2, 'distancia': 2, 'parpadean': 2, 'ciudad': 2, 'acaricia': 2, 'piel': 2, 'bajo': 2, 'por': 2, 'melodía': 2, 'fogata': 2, 'lluvia': 2, 'suave': 2, 'sala': 2, '1': 1, 'pone': 1, '2': 1, 'estrellas': 1, 'comienzan': 1, 'aparecer': 1, 'nocturno': 1, '3': 1, 'viento': 1, 'susurra': 1, 'árboles': 1, '4': 1, 'río': 1, 'serpentea': 1, 'través': 1, 'pradera': 1, 'tranquila': 1, '5': 1, 'rompen': 1, 'orilla': 1, 'mar': 1, '6': 1, 'búho': 1, 'ulula': 1, '7': 1, 'que': 1, 'nunca': 1, 'duerme': 1, '8': 1, 'café': 1, 'acogedora': 1, 'cafetería': 1, '9': 1, 'niño': 1, 'ríe': 1, 'mientras': 1, 'juega': 1, 'parque': 1, '10': 1, 'montañas': 1, 'elevan': 1, 'majestuosamente': 1, 'hacia': 1, '11': 1, 'brisa': 1, 'fresca': 1, 'cima': 1, 'colina': 1, '12': 1, 'hojas': 1, 'crujen': 1, 'pies': 1, 'caminar': 1, '13': 1, 'violinista': 1, 'callejero': 1, 'toca': 1, 'apasionada': 1, '14': 1, 'colores': 1, 'iluminan': 1, 'feria': 1, 'nocturna': 1, '15': 1, 'pájaro': 1, 'canta': 1, 'su': 1, 'canción': 1, 'matutina': 1, '16': 1, 'pan': 1, 'recién': 1, 'horneado': 1, 'panadería': 1, '17': 1, 'anciano': 1, 'comparte': 1, 'historias': 1, 'alrededor': 1, '18': 1, 'estrellado': 1, '19': 1, 'gotas': 1, 'crean': 1, 'ritmo': 1, 'tejado': 1, '20': 1, 'mariposa': 1, 'revolotea': 1, 'flores': 1, '21': 1, 'rugido': 1, 'cascada': 1, 'resuena': 1, 'cañón': 1, '22': 1, 'tren': 1, 'pasa': 1, 'ruidosamente': 1, 'cruce': 1, '23': 1, 'risa': 1, 'amigos': 1, 'estar': 1, '24': 1, 'agricultor': 1, 'trabaja': 1, 'diligentemente': 1, 'campo': 1, '25': 1, 'olor': 1, 'tierra': 1, 'mojada': 1, 'después': 1, '26': 1, 'gato': 1, 'estira': 1, 'perezosamente': 1, 'despertar': 1, '27': 1, 'guitarra': 1, 'flota': 1, 'aire': 1, '28': 1, 'vela': 1, 'parpadea': 1, 'oscuridad': 1, 'habitación': 1, '29': 1, 'murmullo': 1, 'multitud': 1, 'plaza': 1, '30': 1, 'barco': 1, 'navega': 1, 'aguas': 1, 'tranquilas': 1, '31': 1, 'quietud': 1, 'biblioteca': 1, 'libros': 1, 'antiguos': 1, '32': 1, 'risas': 1, 'niños': 1, 'jugando': 1, 'patio': 1, 'recreo': 1, '33': 1, 'coche': 1, 'atraviesa': 1, 'túnel': 1, 'oscuro': 1, '34': 1, 'hoja': 1, 'cae': 1, 'desde': 1, 'árbol': 1, '35': 1, 'zumbido': 1, 'constante': 1, 'movimiento': 1, '36': 1, 'bandada': 1, 'pájaros': 1, 'cruza': 1, '37': 1, 'calidez': 1, 'primavera': 1, '38': 1, 'rompiendo': 1, 'playa': 1, '39': 1, 'reloj': 1, 'abuela': 1, 'marca': 1, 'horas': 1, '40': 1, 'lavanda': 1, 'jardín': 1, 'florido': 1, '41': 1, 'tormenta': 1, 'avecina': 1, '42': 1, 'crujir': 1, 'nieve': 1, 'botas': 1, 'invierno': 1, '43': 1, 'helicóptero': 1, 'vuela': 1, 'alto': 1, 'despejado': 1, '44': 1, 'piano': 1, '45': 1, 'campana': 1, 'iglesia': 1, 'repica': 1, 'mediodía': 1, '46': 1, 'tintineo': 1, 'cubiertos': 1, 'restaurante': 1, 'animado': 1, '47': 1, 'crepita': 1, 'noche': 1, 'estrellada': 1, '48': 1, 'tráfico': 1, 'concurrida': 1, 'avenida': 1, '49': 1, 'rana': 1, 'croa': 1, 'charca': 1, 'anochecer': 1, '50': 1, 'paz': 1, 'y': 1, 'serenidad': 1, 'naturaleza': 1, 'montaña': 1})\n",
      "Las 5 palabras más comunes: [('la', 34), ('el', 30), ('en', 29), ('de', 26), ('un', 18)]\n",
      "Sentimiento general del texto: Neutral\n"
     ]
    }
   ],
   "source": [
    "import re\n",
    "from collections import Counter\n",
    "from textblob import TextBlob\n",
    "import spacy\n",
    "from spacy import displacy\n",
    "import matplotlib.pyplot as plt\n",
    "\n",
    "def leer_archivo(nombre_archivo):\n",
    "    with open(nombre_archivo, 'r', encoding='utf-8') as archivo:\n",
    "        contenido = archivo.read()\n",
    "    return contenido\n",
    "\n",
    "def frecuencia_palabras(texto):\n",
    "    palabras = re.findall(r'\\b\\w+\\b', texto.lower())\n",
    "    return Counter(palabras)\n",
    "\n",
    "def palabras_comunes(frecuencias, n=5):\n",
    "    return frecuencias.most_common(n)\n",
    "\n",
    "def analisis_sentimiento(texto):\n",
    "    blob = TextBlob(texto)\n",
    "    polaridad = blob.sentiment.polarity\n",
    "    if polaridad > 0:\n",
    "        return \"Positivo\"\n",
    "    elif polaridad < 0:\n",
    "        return \"Negativo\"\n",
    "    else:\n",
    "        return \"Neutral\"\n",
    "\n",
    "# Ejemplo de uso\n",
    "nombre_archivo = \"El_sol_se_pone.txt\"\n",
    "contenido = leer_archivo(nombre_archivo)\n",
    "frecuencias = frecuencia_palabras(contenido)\n",
    "top_palabras = palabras_comunes(frecuencias)\n",
    "\n",
    "print(\"Frecuencia de cada palabra:\", frecuencias)\n",
    "print(\"Las 5 palabras más comunes:\", top_palabras)\n",
    "print(\"Sentimiento general del texto:\", analisis_sentimiento(contenido))\n"
   ]
  },
  {
   "cell_type": "code",
   "execution_count": null,
   "id": "6d0c7857",
   "metadata": {},
   "outputs": [],
   "source": []
  }
 ],
 "metadata": {
  "kernelspec": {
   "display_name": "Python 3 (ipykernel)",
   "language": "python",
   "name": "python3"
  },
  "language_info": {
   "codemirror_mode": {
    "name": "ipython",
    "version": 3
   },
   "file_extension": ".py",
   "mimetype": "text/x-python",
   "name": "python",
   "nbconvert_exporter": "python",
   "pygments_lexer": "ipython3",
   "version": "3.10.12"
  }
 },
 "nbformat": 4,
 "nbformat_minor": 5
}
