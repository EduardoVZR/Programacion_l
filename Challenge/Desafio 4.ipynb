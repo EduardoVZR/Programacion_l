{
 "cells": [
  {
   "cell_type": "markdown",
   "id": "2f90ed8e",
   "metadata": {},
   "source": [
    "# Desafío 4: Implementación de Funciones map, filter, y reduce Propias\n",
    "Crea tus propias versiones de las funciones map, filter y reduce. Estas funciones deben tomar como argumentos una función y una lista (y un valor inicial en el caso de reduce) y deben retornar un iterable (puedes retornar una lista).\n"
   ]
  },
  {
   "cell_type": "code",
   "execution_count": 2,
   "id": "f5422050",
   "metadata": {},
   "outputs": [
    {
     "name": "stdout",
     "output_type": "stream",
     "text": [
      "mi_map: [2, 4, 6, 8, 10]\n",
      "mi_filter: [2, 4]\n",
      "mi_reduce (sin valor inicial): 15\n",
      "mi_reduce (con valor inicial): 25\n"
     ]
    }
   ],
   "source": [
    "# Implementación propia de la función map\n",
    "def mi_map(funcion, iterable):\n",
    "    return [funcion(elemento) for elemento in iterable]\n",
    "\n",
    "# Implementación propia de la función filter\n",
    "def mi_filter(funcion, iterable):\n",
    "    return [elemento for elemento in iterable if funcion(elemento)]\n",
    "\n",
    "# Implementación propia de la función reduce\n",
    "def mi_reduce(funcion, iterable, valor_inicial=None):\n",
    "    if valor_inicial is None:\n",
    "        acumulador = iterable[0]\n",
    "        iterable = iterable[1:]\n",
    "    else:\n",
    "        acumulador = valor_inicial\n",
    "\n",
    "    for elemento in iterable:\n",
    "        acumulador = funcion(acumulador, elemento)\n",
    "\n",
    "    return acumulador\n",
    "\n",
    "# Ejemplos de uso\n",
    "\n",
    "# Función para duplicar un número\n",
    "def duplicar(x):\n",
    "    return x * 2\n",
    "\n",
    "# Función para filtrar números pares\n",
    "def es_par(x):\n",
    "    return x % 2 == 0\n",
    "\n",
    "# Función para sumar dos números\n",
    "def sumar(a, b):\n",
    "    return a + b\n",
    "\n",
    "# Lista de números\n",
    "numeros = [1, 2, 3, 4, 5]\n",
    "\n",
    "# Usando mi_map para duplicar cada elemento de la lista\n",
    "resultado_map = mi_map(duplicar, numeros)\n",
    "print(\"mi_map:\", resultado_map)\n",
    "\n",
    "# Usando mi_filter para filtrar los números pares de la lista\n",
    "resultado_filter = mi_filter(es_par, numeros)\n",
    "print(\"mi_filter:\", resultado_filter)\n",
    "\n",
    "# Usando mi_reduce para sumar todos los elementos de la lista\n",
    "resultado_reduce = mi_reduce(sumar, numeros)\n",
    "print(\"mi_reduce (sin valor inicial):\", resultado_reduce)\n",
    "\n",
    "# Usando mi_reduce para sumar todos los elementos de la lista con un valor inicial de 10\n",
    "resultado_reduce_con_inicial = mi_reduce(sumar, numeros, 10)\n",
    "print(\"mi_reduce (con valor inicial):\", resultado_reduce_con_inicial)"
   ]
  }
 ],
 "metadata": {
  "kernelspec": {
   "display_name": "Python 3 (ipykernel)",
   "language": "python",
   "name": "python3"
  },
  "language_info": {
   "codemirror_mode": {
    "name": "ipython",
    "version": 3
   },
   "file_extension": ".py",
   "mimetype": "text/x-python",
   "name": "python",
   "nbconvert_exporter": "python",
   "pygments_lexer": "ipython3",
   "version": "3.10.12"
  }
 },
 "nbformat": 4,
 "nbformat_minor": 5
}
