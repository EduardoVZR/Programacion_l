{
 "cells": [
  {
   "cell_type": "markdown",
   "id": "ab36859d",
   "metadata": {},
   "source": [
    "# Desafío 5: Composición de Funciones\n",
    "Crea una función componer que tome una lista de funciones y retorne una nueva función que represente la composición de las funciones originales. La composición de funciones es una operación donde el resultado de una función se utiliza como el argumento de la siguiente.\n"
   ]
  },
  {
   "cell_type": "code",
   "execution_count": null,
   "id": "79af767e",
   "metadata": {},
   "outputs": [
    {
     "name": "stdout",
     "output_type": "stream",
     "text": [
      "\n",
      "---- Menú de Composición ----\n",
      "1. Cuadrado\n",
      "2. Incrementar\n",
      "3. Duplicar\n",
      "4. Componer funciones\n",
      "5. Salir\n"
     ]
    }
   ],
   "source": [
    "# Función para realizar la composición de funciones\n",
    "def componer(funciones):\n",
    "    def composicion(*args, **kwargs):\n",
    "        resultado = args[0]\n",
    "        for funcion in funciones:\n",
    "            resultado = funcion(resultado)\n",
    "        return resultado\n",
    "    return composicion\n",
    "\n",
    "# Ejemplos de funciones que podrían componerse\n",
    "def cuadrado(x):\n",
    "    return x ** 2\n",
    "\n",
    "def incrementar(x):\n",
    "    return x + 1\n",
    "\n",
    "def duplicar(x):\n",
    "    return x * 2\n",
    "\n",
    "# Menú para que el usuario elija las funciones a componer\n",
    "funciones_a_componer = []\n",
    "while True:\n",
    "    print(\"\\n---- Menú de Composición ----\")\n",
    "    print(\"1. Cuadrado\")\n",
    "    print(\"2. Incrementar\")\n",
    "    print(\"3. Duplicar\")\n",
    "    print(\"4. Componer funciones\")\n",
    "    print(\"5. Salir\")\n",
    "\n",
    "    opcion = input(\"Selecciona una opción (1-5): \")\n",
    "\n",
    "    if opcion == '1':\n",
    "        funciones_a_componer.append(cuadrado)\n",
    "    elif opcion == '2':\n",
    "        funciones_a_componer.append(incrementar)\n",
    "    elif opcion == '3':\n",
    "        funciones_a_componer.append(duplicar)\n",
    "    elif opcion == '4':\n",
    "        if len(funciones_a_componer) < 2:\n",
    "            print(\"Debes seleccionar al menos dos funciones para componer.\")\n",
    "        else:\n",
    "            composicion_resultante = componer(funciones_a_componer)\n",
    "            print(\"¡Composición creada exitosamente!\")\n",
    "            break\n",
    "    elif opcion == '5':\n",
    "        print(\"Saliendo del programa. ¡Hasta luego!\")\n",
    "        exit()\n",
    "\n",
    "# Ejemplo de uso de la composición resultante\n",
    "valor = float(input(\"Ingresa un valor para aplicar la composición: \"))\n",
    "resultado_composicion = composicion_resultante(valor)\n",
    "print(\"Resultado de la composición:\", resultado_composicion)\n",
    "\n"
   ]
  },
  {
   "cell_type": "code",
   "execution_count": null,
   "id": "ffda9ef8",
   "metadata": {},
   "outputs": [],
   "source": []
  }
 ],
 "metadata": {
  "kernelspec": {
   "display_name": "Python 3 (ipykernel)",
   "language": "python",
   "name": "python3"
  },
  "language_info": {
   "codemirror_mode": {
    "name": "ipython",
    "version": 3
   },
   "file_extension": ".py",
   "mimetype": "text/x-python",
   "name": "python",
   "nbconvert_exporter": "python",
   "pygments_lexer": "ipython3",
   "version": "3.10.12"
  }
 },
 "nbformat": 4,
 "nbformat_minor": 5
}
