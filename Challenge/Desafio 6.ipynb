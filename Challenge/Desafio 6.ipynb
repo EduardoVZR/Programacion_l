{
 "cells": [
  {
   "cell_type": "markdown",
   "id": "210317bc",
   "metadata": {},
   "source": [
    "# Desafío 6: Contador de Palabras\n",
    "Crea un script que lea un archivo de texto y cuente el número de ocurrencias de cada palabra en el archivo. Luego, deberá escribir estas estadísticas en un nuevo archivo.\n",
    "\n",
    "a)\tCopia el siguiente texto y graba un archivo.txt \n",
    "“En un universo de palabras, cada término sirve como un vórtice de significado, y la frecuencia de cada palabra puede ser tan reveladora como su presencia. Hoy, nos embarcamos en una expedición cuantitativa, donde no solo leemos texto, sino que escudriñamos las profundidades de su composición, desentrañando el peso de cada palabra en el tapiz de su narrativa.\n",
    "Este desafío es para los curiosos de corazón, aquellos que miran más allá de las frases y buscan entender el 'cómo' y el 'cuánto' del lenguaje que consumimos. ¿Alguna vez te has preguntado qué palabras dominan tus páginas favoritas, o cuál es el léxico preferido de los autores que admiras? Aquí está tu oportunidad de descubrirlo.\n",
    "Tu tarea es desarrollar un script, un contador astuto y meticuloso, capaz de recorrer la extensión de un documento, palabra por palabra, contabilizando cada aparición. Este script no es solo un programa, es un cartógrafo lingüístico, trazando la topografía de la terminología en cualquier texto dado.\n",
    "El fruto de tu esfuerzo no se perderá en la consola o será efímero en la pantalla. Tu script irá un paso más allá, inmortalizando su análisis en un nuevo archivo, un compendio de conocimiento que detalla la abundancia o la escasez de cada término. Este archivo se convertirá en el espejo numérico del original, reflejando no historias o ideas, sino la arquitectura de su expresión.\n",
    "\n",
    "Este es un llamado no solo a los programadores, sino también a los lingüistas, a los amantes de los libros y a los analistas de datos. ¿Estás preparado para desenterrar las estadísticas ocultas en los pliegues de los párrafos y exponer la anatomía de la escritura a través de números y listas? Enciende tu IDE, prepara tus dedos sobre el teclado, y comienza la caza de palabras.”"
   ]
  },
  {
   "cell_type": "code",
   "execution_count": 2,
   "id": "994da4c4",
   "metadata": {},
   "outputs": [
    {
     "ename": "SyntaxError",
     "evalue": "invalid decimal literal (3166545035.py, line 3)",
     "output_type": "error",
     "traceback": [
      "\u001b[1;36m  Cell \u001b[1;32mIn[2], line 3\u001b[1;36m\u001b[0m\n\u001b[1;33m    def contar_palabras(desafio 6.txt, archivo_salida):\u001b[0m\n\u001b[1;37m                                 ^\u001b[0m\n\u001b[1;31mSyntaxError\u001b[0m\u001b[1;31m:\u001b[0m invalid decimal literal\n"
     ]
    }
   ],
   "source": [
    "import string\n",
    "\n",
    "def contar_palabras(archivo_entrada, archivo_salida):\n",
    "    try:\n",
    "        with open(archivo_entrada, 'r', encoding='utf-8') as archivo:\n",
    "            contenido = archivo.read().lower()\n",
    "            \n",
    "            # Eliminar puntuaciones y caracteres especiales\n",
    "            contenido = contenido.translate(str.maketrans(\"\", \"\", string.punctuation))\n",
    "\n",
    "            # Dividir el contenido en palabras\n",
    "            palabras = contenido.split()\n",
    "\n",
    "            # Crear un diccionario para contar las ocurrencias de cada palabra\n",
    "            contador_palabras = {}\n",
    "            for palabra in palabras:\n",
    "                if palabra in contador_palabras:\n",
    "                    contador_palabras[palabra] += 1\n",
    "                else:\n",
    "                    contador_palabras[palabra] = 1\n",
    "\n",
    "        with open(archivo_salida, 'w', encoding='utf-8') as archivo_resultado:\n",
    "            # Escribir las estadísticas en el archivo de salida\n",
    "            for palabra, frecuencia in contador_palabras.items():\n",
    "                archivo_resultado.write(f'{palabra}: {frecuencia}\\n')\n",
    "\n",
    "        print(f\"Estadísticas guardadas en {archivo_salida}.\")\n",
    "\n",
    "    except FileNotFoundError:\n",
    "        print(f\"El archivo {archivo_entrada} no fue encontrado.\")\n",
    "    except Exception as e:\n",
    "        print(f\"Ocurrió un error: {e}\")\n",
    "\n",
    "# Archivo de entrada\n",
    "archivo_entrada = \"archivo.txt\"\n",
    "\n",
    "# Archivo de salida\n",
    "archivo_salida = \"estadisticas_palabras.txt\"\n",
    "\n",
    "# Llamada a la función para contar palabras y guardar estadísticas\n",
    "contar_palabras(archivo_entrada, archivo_salida)"
   ]
  },
  {
   "cell_type": "code",
   "execution_count": null,
   "id": "9437121c",
   "metadata": {},
   "outputs": [],
   "source": []
  }
 ],
 "metadata": {
  "kernelspec": {
   "display_name": "Python 3 (ipykernel)",
   "language": "python",
   "name": "python3"
  },
  "language_info": {
   "codemirror_mode": {
    "name": "ipython",
    "version": 3
   },
   "file_extension": ".py",
   "mimetype": "text/x-python",
   "name": "python",
   "nbconvert_exporter": "python",
   "pygments_lexer": "ipython3",
   "version": "3.10.12"
  }
 },
 "nbformat": 4,
 "nbformat_minor": 5
}
